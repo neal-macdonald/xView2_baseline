{
 "cells": [
  {
   "cell_type": "code",
   "execution_count": 2,
   "id": "71be8727-0204-4ef7-8dab-423a3394e17f",
   "metadata": {},
   "outputs": [],
   "source": [
    "from os import walk, path, makedirs\n",
    "from shutil import copy2 as cp\n",
    "\n",
    "\n",
    "def get_files(base_dir):\n",
    "    # Minmizing (halfing) list to just pre image files\n",
    "    base_dir = path.join(base_dir, \"images\")\n",
    "    files = [f for f in next(walk(base_dir))[2] if \"pre\" in f]\n",
    "\n",
    "    return files\n",
    "\n",
    "\n",
    "def move_files(files, base_dir, output_dir):\n",
    "    for filename in files:\n",
    "        disaster = filename.split(\"_\")[0]\n",
    "\n",
    "        # If the output directory and disater name do not exist make the directory\n",
    "        if not path.isdir(path.join(output_dir, disaster)):\n",
    "            makedirs(path.join(output_dir, disaster))\n",
    "\n",
    "        # Check if the images directory exists\n",
    "        if not path.isdir(path.join(output_dir, disaster, \"images\")):\n",
    "            # If not create it\n",
    "            makedirs(path.join(output_dir, disaster, \"images\"))\n",
    "\n",
    "        # Move the pre and post image to the images directory under the disaster name\n",
    "        cp(\n",
    "            path.join(base_dir, \"images\", filename),\n",
    "            path.join(output_dir, disaster, \"images\", filename),\n",
    "        )\n",
    "        post_file = filename.replace(\"_pre_\", \"_post_\")\n",
    "        cp(\n",
    "            path.join(base_dir, \"images\", post_file),\n",
    "            path.join(output_dir, disaster, \"images\", post_file),\n",
    "        )\n",
    "\n",
    "        # Check if the label directory exists\n",
    "        if not path.isdir(path.join(output_dir, disaster, \"labels\")):\n",
    "            # If not create it\n",
    "            makedirs(path.join(output_dir, disaster, \"labels\"))\n",
    "\n",
    "        pre_label_file = filename.replace(\"png\", \"json\")\n",
    "        # Move the pre and post label files to the labels directory under the disaster name\n",
    "        cp(\n",
    "            path.join(base_dir, \"labels\", pre_label_file),\n",
    "            path.join(output_dir, disaster, \"labels\", pre_label_file),\n",
    "        )\n",
    "        post_label_file = pre_label_file.replace(\"_pre_\", \"_post_\")\n",
    "        cp(\n",
    "            path.join(base_dir, \"labels\", post_label_file),\n",
    "            path.join(output_dir, disaster, \"labels\", post_label_file),\n",
    "        )"
   ]
  },
  {
   "cell_type": "code",
   "execution_count": 4,
   "id": "4252a3eb-322f-4e6b-ab5b-807e2a18b15b",
   "metadata": {},
   "outputs": [],
   "source": [
    "input1 = r\"C:\\Users\\namacdon\\Desktop\\delete\\xView2\\train_images_labels_targets\\train\"\n",
    "output1 = r\"C:\\Users\\namacdon\\Desktop\\delete\\xView2\\train_images_labels_targets\\disasters\"\n",
    "\n",
    "files = get_files(input1)\n",
    "move_files(files, input1, output1)"
   ]
  }
 ],
 "metadata": {
  "kernelspec": {
   "display_name": "Python 3 (ipykernel)",
   "language": "python",
   "name": "python3"
  },
  "language_info": {
   "codemirror_mode": {
    "name": "ipython",
    "version": 3
   },
   "file_extension": ".py",
   "mimetype": "text/x-python",
   "name": "python",
   "nbconvert_exporter": "python",
   "pygments_lexer": "ipython3",
   "version": "3.9.7"
  }
 },
 "nbformat": 4,
 "nbformat_minor": 5
}
